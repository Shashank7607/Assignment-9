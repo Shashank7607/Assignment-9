{
 "cells": [
  {
   "cell_type": "code",
   "execution_count": 1,
   "id": "afd7b449-5005-40cd-b66b-0fbd74675a1d",
   "metadata": {},
   "outputs": [],
   "source": [
    "#ans = 1"
   ]
  },
  {
   "cell_type": "code",
   "execution_count": 2,
   "id": "2b5b29b2-d8d9-4ae3-a4a8-1293e6475af7",
   "metadata": {},
   "outputs": [],
   "source": [
    "class Vehicle:\n",
    "    def __init__(self, name_of_vehicle, max_speed, average_of_vehicle):\n",
    "        self.name_of_vehicle = name_of_vehicle\n",
    "        self.max_speed = max_speed\n",
    "        self.average_of_vehicle = average_of_vehicle\n"
   ]
  },
  {
   "cell_type": "code",
   "execution_count": 3,
   "id": "6e4025b4-daa4-4f25-b419-5406a666993c",
   "metadata": {},
   "outputs": [],
   "source": [
    "my_vehicle = Vehicle(\"Car\", 200, 50)\n"
   ]
  },
  {
   "cell_type": "code",
   "execution_count": 4,
   "id": "c1eac121-116e-41ba-936d-7030507aa346",
   "metadata": {},
   "outputs": [],
   "source": [
    "#ans = 2"
   ]
  },
  {
   "cell_type": "code",
   "execution_count": 5,
   "id": "3605243d-d668-4f07-8744-c33e5b051e1b",
   "metadata": {},
   "outputs": [],
   "source": [
    "class Car(Vehicle):\n",
    "    def __init__(self, name_of_vehicle, max_speed, average_of_vehicle):\n",
    "        super().__init__(name_of_vehicle, max_speed, average_of_vehicle)\n",
    "    \n",
    "    def seating_capacity(self, capacity):\n",
    "        return f\"{self.name_of_vehicle} has a seating capacity of {capacity} passengers.\"\n"
   ]
  },
  {
   "cell_type": "code",
   "execution_count": 7,
   "id": "46f0c99e-167c-415a-8ca6-9ac9fde88eda",
   "metadata": {},
   "outputs": [
    {
     "name": "stdout",
     "output_type": "stream",
     "text": [
      "Sedan has a seating capacity of 5 passengers.\n"
     ]
    }
   ],
   "source": [
    "my_car = Car(\"Sedan\", 180, 40)\n",
    "print(my_car.seating_capacity(5))\n"
   ]
  },
  {
   "cell_type": "code",
   "execution_count": 8,
   "id": "d5081dfb-5e02-4dca-ba4a-55459f2a3351",
   "metadata": {},
   "outputs": [],
   "source": [
    "#ans = 3"
   ]
  },
  {
   "cell_type": "code",
   "execution_count": 9,
   "id": "7b4da178-ff90-4320-9b0f-4352758f2f8a",
   "metadata": {},
   "outputs": [],
   "source": [
    "#Multiple inheritance is a feature of object-oriented programming languages that allows a class to inherit from multiple parent classes. In multiple inheritance, a child class is created by inheriting from two or more parent classes"
   ]
  },
  {
   "cell_type": "code",
   "execution_count": 10,
   "id": "a32c0f3b-1dd5-4430-9ce3-0e1f639918b9",
   "metadata": {},
   "outputs": [
    {
     "name": "stdout",
     "output_type": "stream",
     "text": [
      "Sparrow is eating.\n",
      "This Bird has a wingspan of 10 and is flying.\n"
     ]
    }
   ],
   "source": [
    "class Animal:\n",
    "    def __init__(self, name):\n",
    "        self.name = name\n",
    "    \n",
    "    def eat(self):\n",
    "        print(f\"{self.name} is eating.\")\n",
    "\n",
    "class Flyer:\n",
    "    def __init__(self, wingspan):\n",
    "        self.wingspan = wingspan\n",
    "    \n",
    "    def fly(self):\n",
    "        print(f\"This {self.__class__.__name__} has a wingspan of {self.wingspan} and is flying.\")\n",
    "\n",
    "class Bird(Animal, Flyer):\n",
    "    def __init__(self, name, wingspan):\n",
    "        Animal.__init__(self, name)\n",
    "        Flyer.__init__(self, wingspan)\n",
    "\n",
    "bird = Bird(\"Sparrow\", 10)\n",
    "bird.eat()  # Output: \"Sparrow is eating.\"\n",
    "bird.fly()  # Output: \"This Bird has a wingspan of 10 and is flying.\"\n"
   ]
  },
  {
   "cell_type": "code",
   "execution_count": 11,
   "id": "8d2a2ab2-8a18-4b42-b6b4-170bd6786925",
   "metadata": {},
   "outputs": [],
   "source": [
    "#ans = 4 "
   ]
  },
  {
   "cell_type": "code",
   "execution_count": 12,
   "id": "a2596b5f-5241-44ef-9a2e-592685415a0d",
   "metadata": {},
   "outputs": [],
   "source": [
    "#In Python, getters and setters are methods that allow us to access or modify private instance variables of a class.\n",
    "\n",
    "#Getter method: It is a method that is used to get the value of a private instance variable of a class.\n",
    "#Setter method: It is a method that is used to set the value of a private instance variable of a class."
   ]
  },
  {
   "cell_type": "code",
   "execution_count": 13,
   "id": "1d228867-21ef-40f1-a52e-2fffdb8c15f2",
   "metadata": {},
   "outputs": [],
   "source": [
    "class Person:\n",
    "    def __init__(self, name, age):\n",
    "        self.name = name\n",
    "        self.__age = age   # private instance variable with double underscore prefix\n",
    "        \n",
    "    def get_age(self):\n",
    "        return self.__age\n",
    "    \n",
    "    def set_age(self, age):\n",
    "        if age < 0:\n",
    "            print(\"Age cannot be negative.\")\n",
    "        else:\n",
    "            self.__age = age\n"
   ]
  },
  {
   "cell_type": "code",
   "execution_count": 15,
   "id": "9fb194e7-3b9d-42d3-8014-1b639e3193cc",
   "metadata": {},
   "outputs": [
    {
     "name": "stdout",
     "output_type": "stream",
     "text": [
      "25\n",
      "30\n",
      "Age cannot be negative.\n"
     ]
    }
   ],
   "source": [
    "p = Person(\"Alice\", 25)\n",
    "print(p.get_age())  \n",
    "\n",
    "p.set_age(30)\n",
    "print(p.get_age())\n",
    "\n",
    "p.set_age(-5)       \n"
   ]
  },
  {
   "cell_type": "code",
   "execution_count": null,
   "id": "3225f354-e691-4364-a244-71e800671d7b",
   "metadata": {},
   "outputs": [],
   "source": []
  }
 ],
 "metadata": {
  "kernelspec": {
   "display_name": "Python 3 (ipykernel)",
   "language": "python",
   "name": "python3"
  },
  "language_info": {
   "codemirror_mode": {
    "name": "ipython",
    "version": 3
   },
   "file_extension": ".py",
   "mimetype": "text/x-python",
   "name": "python",
   "nbconvert_exporter": "python",
   "pygments_lexer": "ipython3",
   "version": "3.10.8"
  }
 },
 "nbformat": 4,
 "nbformat_minor": 5
}
